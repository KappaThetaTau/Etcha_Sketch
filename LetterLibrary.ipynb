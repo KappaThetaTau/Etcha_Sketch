{
 "cells": [
  {
   "cell_type": "markdown",
   "metadata": {},
   "source": [
    "# Imports"
   ]
  },
  {
   "cell_type": "code",
   "execution_count": 2,
   "metadata": {},
   "outputs": [],
   "source": [
    "import numpy as np\n",
    "import scipy.signal as signal\n",
    "import matplotlib.pyplot as plt\n",
    "from skimage.io import imread\n",
    "%matplotlib inline\n",
    "\n",
    "import PIL"
   ]
  },
  {
   "cell_type": "markdown",
   "metadata": {},
   "source": [
    "# Inputs"
   ]
  },
  {
   "cell_type": "code",
   "execution_count": 3,
   "metadata": {},
   "outputs": [
    {
     "name": "stdout",
     "output_type": "stream",
     "text": [
      "Enter word here to be displayed\n",
      "(Use '\\n' for new line)\n",
      "test test\n",
      "The Etch a Sketch will display TEST_TEST\n"
     ]
    }
   ],
   "source": [
    "#word = \"ARTUR\"\n",
    "print(\"Enter word here to be displayed\")\n",
    "print(\"(Use '\\\\n' for new line)\")\n",
    "word = str(input()).upper()\n",
    "word = word.replace(\" \",\"_\")\n",
    "\n",
    "spacing = 5\n",
    "scaleX = 4\n",
    "scaleY = 1\n",
    "space = 60\n",
    "\n",
    "newLineSpace = 80\n",
    "\n",
    "print(\"The Etch a Sketch will display \" + word)\n",
    "\n"
   ]
  },
  {
   "cell_type": "markdown",
   "metadata": {},
   "source": [
    "# Dictionary"
   ]
  },
  {
   "cell_type": "code",
   "execution_count": 24,
   "metadata": {},
   "outputs": [],
   "source": [
    "letters = {\n",
    "    \"A\" : [[0,0,8,20,20,29,31,36,50,63,71,70,58,43,43,51,44,32,21,23,32,42,36,32,23,21,14,22,21,9,0],[0,4,6,37,37,64,73,74,37,6,4,0,1,0,4,6,25,25,25,31,30,31,47,61,31,25,6,4,0,1,0],71],\n",
    "    \"B\" : [[0,0,8,9,8,0,1,13,13,30,42,51,51,46,36,36,47,54,56,52,42,30,30,37,45,44,37,30,18,18,30,40,41,36,30,18,18,18,19,30,30,14,0],[0,4,6,37,66,68,72,71,71,71,70,60,51,43,39,38,36,29,21,8,2,1,5,7,15,29,34,35,35,40,40,46,57,65,67,66,40,35,6,5,1,1,0],56]\n",
    "    \"R\" : [[0,0,9,9,9,1,1,13,27,35,43,51,53,52,45,39,53,61,62,50,43,31,28,18,18,27,40,43,41,33,18,18,28,18,19,28,28,14,0],[0,5,7,32,67,69,73,72,73,72,70,64,53,42,38,36,6,6,2,0,5,34,33,34,38,38,43,51,61,68,67,34,33,34,7,5,0,2,0],62],\n",
    "    \"T\" : [[17,17,25,25,26,25,8,7,2,2,0,0,12,50,61,60,59,55,53,35,35,35,36,43,43,30,17],[0,4,6,16,45,67,67,52,53,65,72,72,71,71,72,65,53,52,67,67,34,15,6,4,0,1,0],61],\n",
    "    \"U\" : [[31,17,10,8,9,8,0,1,13,26,26,20,18,18,18,23,35,47,54,56,56,55,49,49,59,70,70,63,63,62,62,60,50,42,31],[0,3,13,28,58,67,69,73,72,73,69,67,57,34,18,9,5,7,17,32,60,67,69,73,72,73,69,67,67,61,29,12,2,0,0],70],\n",
    "    \n",
    "    \"_\" : [[0,space],[0,0],space]\n",
    "}"
   ]
  },
  {
   "cell_type": "markdown",
   "metadata": {},
   "source": [
    "# Functions"
   ]
  },
  {
   "cell_type": "code",
   "execution_count": 21,
   "metadata": {},
   "outputs": [],
   "source": [
    "def findOffset(string):\n",
    "    offset = 0;\n",
    "    i = 0\n",
    "    while i < len(string):\n",
    "        offset += letters[string[i]][2]+Spacing\n",
    "        i += 1\n",
    "    return offset\n",
    "\n",
    "def addLetter(newLetter,word,x,y): \n",
    "    i = 0  \n",
    "    offset = findOffset(word)\n",
    "    while i < len(letters[newLetter][0]):\n",
    "            x.append(letters[newLetter][0][i]+offset)\n",
    "            y.append(letters[newLetter][1][i])\n",
    "            i += 1\n",
    "            \n",
    "def addWord(word,x,y):\n",
    "    currentWord = \"\"\n",
    "    i = 0\n",
    "    while i < len(word):\n",
    "        addLetter(word[i],currentWord,x,y)\n",
    "        currentWord += word[i]\n",
    "        i += 1\n",
    "        \n",
    "def scaleWord(scaleX,scaleY,x,y):\n",
    "    i = 0\n",
    "    while i < len(x):\n",
    "        x[i] *= scaleX\n",
    "        y[i] *= scaleY\n",
    "        i += 1\n",
    "        \n",
    "def "
   ]
  },
  {
   "cell_type": "markdown",
   "metadata": {},
   "source": [
    "# Main"
   ]
  },
  {
   "cell_type": "code",
   "execution_count": 25,
   "metadata": {},
   "outputs": [
    {
     "data": {
      "text/plain": [
       "[<matplotlib.lines.Line2D at 0x1f8889a78e0>]"
      ]
     },
     "execution_count": 25,
     "metadata": {},
     "output_type": "execute_result"
    },
    {
     "data": {
      "image/png": "[encoded data removed]",
      "text/plain": [
       "<Figure size 432x288 with 1 Axes>"
      ]
     },
     "metadata": {
      "needs_background": "light"
     },
     "output_type": "display_data"
    }
   ],
   "source": [
    "x = []\n",
    "y = []\n",
    "\n",
    "addWord(word,x,y)\n",
    "scaleWord(scaleX,scaleY,x,y)\n",
    "\n",
    "plt.plot(x,y)\n",
    "\n"
   ]
  }
 ],
 "metadata": {
  "kernelspec": {
   "display_name": "Python 3",
   "language": "python",
   "name": "python3"
  },
  "language_info": {
   "codemirror_mode": {
    "name": "ipython",
    "version": 3
   },
   "file_extension": ".py",
   "mimetype": "text/x-python",
   "name": "python",
   "nbconvert_exporter": "python",
   "pygments_lexer": "ipython3",
   "version": "3.8.1"
  }
 },
 "nbformat": 4,
 "nbformat_minor": 4
}
